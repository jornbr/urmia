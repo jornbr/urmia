{
 "cells": [
  {
   "cell_type": "code",
   "execution_count": null,
   "metadata": {},
   "outputs": [],
   "source": [
    "import numpy\n",
    "import pyfabm\n",
    "import datetime\n",
    "from matplotlib import pyplot"
   ]
  },
  {
   "cell_type": "code",
   "execution_count": null,
   "metadata": {},
   "outputs": [],
   "source": [
    "import pickle\n",
    "with open('../boxmodel/water_budget.pickle', 'rb') as f:\n",
    "    water_budget_dt = pickle.load(f)\n",
    "    water_budget = pickle.load(f)"
   ]
  },
  {
   "cell_type": "code",
   "execution_count": null,
   "metadata": {},
   "outputs": [],
   "source": [
    "refdate = None\n",
    "salt_path = '../boxmodel/salinity.dat'\n",
    "salt_times = []\n",
    "salts = []\n",
    "elevs = []\n",
    "with open(salt_path) as f:\n",
    "    for l in f:\n",
    "        date, salt, elev = l.rstrip('\\n').split('\\t')\n",
    "        date = datetime.datetime.strptime(date, '%Y-%m-%d')\n",
    "        if refdate is None:\n",
    "            refdate = date\n",
    "        salts.append(float(salt))\n",
    "        elevs.append(float(elev))\n",
    "        salt_times.append((date - refdate).days)\n",
    "fig, ax = pyplot.subplots(figsize=(10,5))\n",
    "dates = [refdate + datetime.timedelta(days=d) for d in salt_times]\n",
    "ax.plot(dates, salts)\n",
    "ax.grid(True)"
   ]
  },
  {
   "cell_type": "code",
   "execution_count": null,
   "metadata": {},
   "outputs": [],
   "source": [
    "meteo_path = '../meteo.dat'\n",
    "temp_times = []\n",
    "temp_dates = []\n",
    "temps = []\n",
    "with open(meteo_path) as f:\n",
    "    for l in f:\n",
    "        items = l.rstrip('\\n').split('\\t')\n",
    "        date = datetime.datetime.strptime(items.pop(0), '%Y-%m-%d %H:%M:%S')\n",
    "        temp = float(items[-3])\n",
    "        if refdate is None:\n",
    "            refdate = date\n",
    "        temps.append(temp)\n",
    "        temp_dates.append(date)\n",
    "        temp_times.append((date - refdate).days)\n",
    "fig, ax = pyplot.subplots(figsize=(10,5))\n",
    "ax.plot(temp_dates, temps)\n",
    "ax.set_ylabel('temperature (degrees Celsius')\n",
    "ax.grid(True)"
   ]
  },
  {
   "cell_type": "code",
   "execution_count": null,
   "metadata": {},
   "outputs": [],
   "source": [
    "model = pyfabm.Model('fabm - Copy.yaml')\n",
    "\n",
    "# Configure the environment\n",
    "# Note: the set of environmental dependencies depends on the loaded biogeochemical model.\n",
    "tempvar = model.dependencies['temperature']\n",
    "tempvar.value = 27.\n",
    "saltvar = model.dependencies['practical_salinity']\n",
    "saltvar.value = 0.\n",
    "model.cell_thickness = 10.\n",
    "\n",
    "# Verify the model is ready to be used\n",
    "assert model.start(), 'One or more model dependencies have not been fulfilled.'\n",
    "\n",
    "outputnames = 'deb/N_b', 'deb/N_j', 'deb/N_p', 'deb/N_a', 'deb/waste', 'practical_salinity', 'temperature', 'total_energy_at_interfaces_calculator/result', 'deb/Et_b', 'deb/Et_j', 'deb/Et_p', 'deb/Et_a', 'deb/cysts', 'deb/f'\n",
    "\n",
    "# Time derivative\n",
    "dt = 360.\n",
    "nday = salt_times[-1] #365\n",
    "nspinup = 365*3\n",
    "n = int(nday * 86400 / dt)\n",
    "output2dat = {}\n",
    "for name in outputnames:\n",
    "    output2dat[name] = (model.variables[name], numpy.empty((n,)))\n",
    "t = numpy.arange(n) * dt / 86400.\n",
    "model_temps = numpy.interp(t, temp_times, temps)\n",
    "model_salts = numpy.interp(t, salt_times, salts)\n",
    "for _ in range(3):\n",
    "    for i in range(int(nspinup * 86400 / dt)):\n",
    "        saltvar.value = model_salts[i]\n",
    "        tempvar.value = model_temps[i]\n",
    "        model.state += model.getRates() * dt\n",
    "for i in range(n):\n",
    "    saltvar.value = model_salts[i]\n",
    "    tempvar.value = model_temps[i]\n",
    "    model.state += model.getRates() * dt\n",
    "    for outputvar, dat in output2dat.values():\n",
    "        dat[i] = outputvar.value\n"
   ]
  },
  {
   "cell_type": "code",
   "execution_count": null,
   "metadata": {},
   "outputs": [],
   "source": [
    "# Plot results\n",
    "E_G = model.parameters['deb/E_G'].value\n",
    "outputnames = 'total_energy_at_interfaces_calculator/result', #'deb/N_e', 'deb/N_j', 'deb/N_a' #'total_energy_at_interfaces_calculator/result', #'deb/N_e', 'deb/N_j', 'deb/N_a', #'deb/Et_a', 'deb/Et_e', 'deb/Et_j', #'deb/waste', 'deb/N_a',\n",
    "outputnames = 'deb/N_b', 'deb/N_j', 'deb/N_p', 'deb/N_a', 'deb/cysts'\n",
    "#outputnames = 'deb/Et_b', 'deb/Et_j', 'deb/Et_p', 'deb/Et_a' #, 'deb/cysts'\n",
    "#outputnames = 'deb/f',\n",
    "outputsum = sum([output2dat[name][1] for name in outputnames])\n",
    "nsave = 1\n",
    "dates = [refdate + datetime.timedelta(days=d) for d in t]\n",
    "fig, ax = pyplot.subplots(figsize=(10,5))\n",
    "for name in outputnames:\n",
    "    outputvar, dat = output2dat[name]\n",
    "    ax.plot(dates[::nsave], dat[::nsave], label=outputvar.long_name)\n",
    "#ax.plot(dates[::nsave], outputsum[::nsave], label='sum')\n",
    "ax.grid()\n",
    "ax.set_xlim(dates[0], dates[-1])\n",
    "#ax.set_ylim(None, 1000)\n",
    "#ax.set_xlim(datetime.datetime(1999,1,1), datetime.datetime(2003,1,1))\n",
    "ax.legend()\n"
   ]
  },
  {
   "cell_type": "code",
   "execution_count": null,
   "metadata": {},
   "outputs": [],
   "source": [
    "model_dates = [refdate + datetime.timedelta(days=d) for d in t]\n",
    "\n",
    "crit_dt1, crit_dt2 = datetime.datetime(2000, 1, 1), datetime.datetime(2002, 1, 1)\n",
    "\n",
    "fig, (ax1, ax2, ax3) = pyplot.subplots(figsize=(8,8), nrows=3, sharex=True)\n",
    "dates = [refdate + datetime.timedelta(days=d) for d in salt_times]\n",
    "ax1.plot(water_budget_dt, water_budget[:, 3], color='C1')\n",
    "ax1.plot(dates, elevs, color='C0')\n",
    "ax1.grid(True)\n",
    "#ax1.set_ylabel('water level (m)')\n",
    "ax1.set_xlim(dates[0], dates[-1])\n",
    "ax1.set_ylabel('water level (m)')\n",
    "ax1.axvspan(crit_dt1, crit_dt2, color='r', alpha=0.2)\n",
    "\n",
    "ax2.plot(dates, salts)\n",
    "ax2.grid(True)\n",
    "#ax2.set_ylabel('salinity (g/L)')\n",
    "ax2.set_ylabel('salinity (g/L)')\n",
    "ax2.set_xlim(dates[0], dates[-1])\n",
    "ax2.axvspan(crit_dt1, crit_dt2, color='r', alpha=0.2)\n",
    "\n",
    "dat = output2dat['deb/Et_b'][1] + output2dat['deb/Et_j'][1] + output2dat['deb/Et_p'][1] + output2dat['deb/Et_a'][1]\n",
    "ax3.plot(model_dates[::nsave], dat / E_G, label='sum')\n",
    "#dat = output2dat['deb/cysts'][1]\n",
    "#ax3.plot(model_dates[::nsave], dat[::nsave], label='cysts')\n",
    "#dat = output2dat['deb/N_j'][1] + output2dat['deb/N_p'][1]\n",
    "#ax3.plot(model_dates[::nsave], dat[::nsave], label='nauplii + juveniles')\n",
    "#dat = output2dat['deb/N_a'][1]\n",
    "#ax3.plot(model_dates[::nsave], dat[::nsave], label='adults')\n",
    "#ax3.legend()\n",
    "ax3.grid(True)\n",
    "ax3.set_xlabel('year')\n",
    "ax3.set_ylabel('Artemia (rel. biomass)')\n",
    "#ax3.set_ylabel('Artemia (g/m3)')\n",
    "ax3.set_xlim(dates[0], dates[-1])\n",
    "ax3.axvspan(crit_dt1, crit_dt2, color='r', alpha=0.2)\n",
    "fig.savefig('box_deb.png', dpi=300)\n"
   ]
  },
  {
   "cell_type": "code",
   "execution_count": null,
   "metadata": {},
   "outputs": [],
   "source": []
  }
 ],
 "metadata": {
  "kernelspec": {
   "display_name": "Python 3.9.7",
   "language": "python",
   "name": "python3"
  },
  "language_info": {
   "codemirror_mode": {
    "name": "ipython",
    "version": 3
   },
   "file_extension": ".py",
   "mimetype": "text/x-python",
   "name": "python",
   "nbconvert_exporter": "python",
   "pygments_lexer": "ipython3",
   "version": "3.9.7"
  },
  "orig_nbformat": 4,
  "vscode": {
   "interpreter": {
    "hash": "f4370d2f1ac7d3b52214a2f18fa41f667202109f0434ab869537768a4adf4702"
   }
  }
 },
 "nbformat": 4,
 "nbformat_minor": 2
}
