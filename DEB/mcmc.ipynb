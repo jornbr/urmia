{
 "cells": [
  {
   "cell_type": "code",
   "execution_count": null,
   "metadata": {},
   "outputs": [],
   "source": [
    "import pydeb\n",
    "import numpy"
   ]
  },
  {
   "cell_type": "code",
   "execution_count": null,
   "metadata": {
    "tags": []
   },
   "outputs": [],
   "source": [
    "# Obtain Catalogue of Life identifier for the taxon of interest\n",
    "# This function (get_ids) will return multiple matches if the provided name is not unique.\n",
    "pydeb.infer.get_ids('Artemia urmiana')"
   ]
  },
  {
   "cell_type": "code",
   "execution_count": null,
   "metadata": {},
   "outputs": [],
   "source": [
    "# Obtain the prior distribution of DEB parameters through phylogenetic inference\n",
    "taxon = pydeb.infer.Taxon.from_col_id('eeabc9e772823a64ab9af8110d03f4f6')\n",
    "prior = taxon.infer_parameters(offline_db='C:/Users/jornb/OneDrive/Code/debweb/data/20200514', add_del_M=True)"
   ]
  },
  {
   "cell_type": "code",
   "execution_count": null,
   "metadata": {},
   "outputs": [],
   "source": [
    "import yaml\n",
    "with open('obs/AghVSta2008b_stats.yaml') as f:\n",
    "    AghVSta2008b_stats = yaml.safe_load(f)\n",
    "with open('obs/AghVSta2008b.yaml') as f:\n",
    "    AghVSta2008b = yaml.safe_load(f)\n",
    "obs2target = {\n",
    "    'total_offspring_per_female': 'N_R / (S_p + 1e-14)',\n",
    "    'prereproductive_period': 'a_p - a_b',\n",
    "    'lifespan': 'a_p - a_b + (a_m - state_at_time(a_p)[\\'a\\']) / (S_p + 1e-14)'\n",
    "}\n"
   ]
  },
  {
   "cell_type": "code",
   "execution_count": null,
   "metadata": {
    "tags": []
   },
   "outputs": [],
   "source": [
    "# Body temperature to use for prior information and simulations\n",
    "T = AghVSta2008b_stats[0]['temperature'] #taxon.typical_temperature\n",
    "\n",
    "sampler = pydeb.calibrate.MCMCSampler()\n",
    "sampler.likelihood.add_parameters(prior.names, prior.mean, prior.cov, prior.inverse_transforms)\n",
    "\n",
    "ip_M = prior.names.index('p_M')\n",
    "sampler.likelihood.add_parameters('salt_threshold', 100, 100)\n",
    "sampler.likelihood.add_parameters('p_T_at_s300', prior.mean[ip_M], prior.cov[ip_M, ip_M], numpy.exp)\n",
    "sampler.likelihood.add_parameters('p_T_ref', prior.mean[ip_M], prior.cov[ip_M, ip_M], numpy.exp)\n",
    "\n",
    "class SaltDependentModel(pydeb.Model):\n",
    "    def __init__(self, salinity, **params):\n",
    "        super().__init__()\n",
    "        for name in prior.names:\n",
    "            setattr(self, name, params[name])\n",
    "        p_T_ref = params['p_T_ref']\n",
    "        p_T_at_s300 = params['p_T_at_s300']\n",
    "        self.p_T  = p_T_ref + max(salinity - params['salt_threshold'], 0.) * (p_T_at_s300 - p_T_ref) / (300. - params['salt_threshold'])\n",
    "\n",
    "class SalinityDependent(pydeb.calibrate.likelihood.Component):\n",
    "    def __init__(self, salinity):\n",
    "        super().__init__()\n",
    "        self.salt = salinity\n",
    "\n",
    "    def evaluate(self, values) -> float:\n",
    "        model = SaltDependentModel(self.salt, **values)\n",
    "        model.initialize()\n",
    "        values['model_%i' % self.salt] = model\n",
    "        if model.valid:\n",
    "            return super().evaluate(values | {'model': model})\n",
    "\n",
    "salt2comp = {}\n",
    "def get_component(salinity):\n",
    "    if salinity not in salt2comp:\n",
    "        salt2comp[salinity] = SalinityDependent(salinity=salinity)\n",
    "        if salinity < 100:\n",
    "            salt2comp[salinity].add_child(pydeb.calibrate.likelihood.ImpliedProperty('L_i/del_M', 1.5, 0.1, temperature=info['temperature']))\n",
    "        if salinity < 400:\n",
    "            sampler.likelihood.add_child(salt2comp[salinity])\n",
    "    return salt2comp[salinity]\n",
    "\n",
    "for info in AghVSta2008b_stats:\n",
    "    comp = get_component(info['salinity'])\n",
    "\n",
    "    # Add observed life history traits (ultimate structural length and reproduction rate)\n",
    "    for obsname, target in obs2target.items():\n",
    "        comp.add_child(pydeb.calibrate.likelihood.ImpliedProperty(target, info[obsname], info['%s_sd' % obsname], temperature=info['temperature']))\n",
    "\n",
    "    comp.add_child(pydeb.calibrate.likelihood.ImpliedProperty('L_b/del_M', 0.05, 0.01, temperature=info['temperature']))\n",
    "\n",
    "for info in AghVSta2008b:\n",
    "    comp = get_component(info['salinity'])\n",
    "\n",
    "    ts = pydeb.calibrate.likelihood.TimeSeries(info['time'][1:], temperature=info['temperature'], offset='a_b')\n",
    "    if info['salinity'] < 1200:\n",
    "        ts.add_series('S', info['survival'][1:], sd=info['survival_sd'][1:])\n",
    "    ts.add_series('L/del_M', 0.1 * numpy.array(info['length'])[1:], sd=0.1 * numpy.array(info['length_sd'])[1:])\n",
    "    comp.add_child(ts)\n",
    "\n",
    "bar = pydeb.calibrate.ProgressBar()\n",
    "display(bar.widget)\n",
    "samples = sampler.get_samples(100000, progress_reporter=bar, nburn=100000)"
   ]
  },
  {
   "cell_type": "code",
   "execution_count": null,
   "metadata": {},
   "outputs": [],
   "source": [
    "for name in sampler.likelihood.get_combined_prior()[0]:\n",
    "    values = [sample[name] for sample in samples]\n",
    "    perc025, perc500, perc975 = numpy.percentile(values, (2.5, 50, 97.5))\n",
    "    print('%s = %.4g (%.4g - %.4g)' % (name, perc500, perc025, perc975))\n",
    "\n",
    "best_lnl = -numpy.inf\n",
    "for sample in samples:\n",
    "    if sample['lnl'] > best_lnl:\n",
    "        best_sample, best_lnl = sample, sample['lnl']\n",
    "print('Ln likelihood = %s' % best_lnl)\n",
    "\n",
    "import scipy.optimize\n",
    "parnames = sampler.likelihood.get_combined_prior()[0]\n",
    "def f(x):\n",
    "    lnl = sampler.likelihood.evaluate(dict(zip(parnames, x)))\n",
    "    return numpy.inf if lnl is None else -lnl\n",
    "opt = scipy.optimize.minimize(f, [best_sample['mu'][n] for n in parnames], method='Nelder-Mead')\n",
    "opt_sample = dict(zip(parnames, opt['x']))\n",
    "opt_lnl = sampler.likelihood.evaluate(opt_sample)\n",
    "print(opt_sample, opt_lnl) \n"
   ]
  },
  {
   "cell_type": "code",
   "execution_count": null,
   "metadata": {
    "tags": []
   },
   "outputs": [],
   "source": [
    "bar = pydeb.calibrate.ProgressBar()\n",
    "display(bar.widget)\n",
    "outputs = ['L/del_M', 'S', 'R', 'cumR']\n",
    "salt2result = {}\n",
    "for info in AghVSta2008b:\n",
    "    salt = int(info['salinity'])\n",
    "    if salt not in salt2result:\n",
    "        r = pydeb.simulate_ensemble([sample['model_%i' % salt] for sample in samples], outputs, T=T, t_end=90., progress_reporter=bar, t_offset='a_b')\n",
    "        stats = {}\n",
    "        for key, values in r.items():\n",
    "            stats[key]  = values if key == 't' else numpy.percentile(values, [2.5, 25, 50, 75, 97.5], axis=0)\n",
    "        salt2result[salt] = stats"
   ]
  },
  {
   "cell_type": "code",
   "execution_count": null,
   "metadata": {},
   "outputs": [],
   "source": [
    "from matplotlib import pyplot\n",
    "\n",
    "def add_series(ax, result, name, title=None, scale_factor=1., color='C0', label=None, opt_res=None):\n",
    "    if title is None:\n",
    "        title = '%s (%s)' % (pydeb.long_names.get(name, name), pydeb.units.get(name, '?'))\n",
    "    p025, p250, p500, p750, p975 = [v * scale_factor for v in result[name]]\n",
    "    time = numpy.array(result['t'])\n",
    "    ax.fill_between(time, p025, p975, alpha=0.3, color=color)\n",
    "    ax.fill_between(time, p250, p750, alpha=0.3, color=color)\n",
    "    ax.plot(time, p025, '-', color=color, lw=.2)\n",
    "    ax.plot(time, p975, '-', color=color, lw=.2)\n",
    "    ax.plot(time, p250, '-', color=color, lw=.2)\n",
    "    ax.plot(time, p750, '-', color=color, lw=.2)\n",
    "    ax.plot(time, p500, '-', color=color, label=label)\n",
    "    if opt_res is not None:\n",
    "        ax.plot(opt_res[0], opt_res[1], '-', color='k')\n",
    "        ax.plot(opt_res[0], opt_res[1], '--', color=color)\n",
    "    ax.set_ylabel(title)\n",
    "    ax.grid(True)\n",
    "    ax.set_xlim(0, 90)\n",
    "\n",
    "def create_plot(ax, name, title=None, scale_factor=1., obs_name=None):\n",
    "    for i, salt in enumerate(sorted(salt2result)):\n",
    "        color = 'C%i' % i\n",
    "\n",
    "        opt_res = {}\n",
    "        m = opt_sample['model_%i' % salt]\n",
    "        c_T = m.get_temperature_correction(T)\n",
    "        a_b = m.evaluate('a_b', c_T=c_T)\n",
    "        t = 90 + a_b\n",
    "        dt = 0.1\n",
    "        r = m.simulate(int(t / dt), dt, c_T=c_T)\n",
    "        opt_res = (r['t'] - a_b, scale_factor * m.evaluate(name, c_T=c_T, locals=r))\n",
    "\n",
    "        add_series(ax, salt2result[salt], name, title, scale_factor=scale_factor, color=color, label='S=%i' % salt, opt_res=opt_res)\n",
    "        if obs_name is not None:\n",
    "            for info in AghVSta2008b:\n",
    "                if int(info['salinity']) == salt:\n",
    "                    break\n",
    "            ax.errorbar(info['time'], info[obs_name], info['%s_sd' % obs_name], fmt='ow', mec=color, ecolor=color)\n",
    "    ax.legend()\n",
    "\n",
    "\n",
    "#for name in sim.selected_outputs:\n",
    "#    data, layout = create_plot(result, name)\n",
    "#    fig = go.Figure(data=data, layout=layout)\n",
    "#    py.iplot(fig)\n",
    "fig, (axgrowth, axsurv, axrep, axcumr) = pyplot.subplots(nrows=4, figsize=(8, 15), sharex=True)\n",
    "create_plot(axgrowth, 'L/del_M', 'length (mm)', scale_factor=10, obs_name='length')\n",
    "create_plot(axsurv, 'S', 'survival (1)', obs_name='survival')\n",
    "create_plot(axrep, 'R', 'reproduction rate (# d-1)')\n",
    "create_plot(axcumr, 'cumR', 'lifetime reproductive output (#)')\n",
    "axcumr.set_xlabel('time since hatching (d)');\n"
   ]
  },
  {
   "cell_type": "code",
   "execution_count": null,
   "metadata": {},
   "outputs": [],
   "source": [
    "targets = set(obs2target.values()) | {'N_R', 'a_m'}\n",
    "bar = pydeb.calibrate.ProgressBar()\n",
    "display(bar.widget)\n",
    "salts = numpy.linspace(0, 300, 100)\n",
    "target2default = {'a_p - a_b': numpy.inf}\n",
    "target2values = dict([(target, numpy.zeros((len(samples), salts.size))) for target in targets])\n",
    "for i, sample in enumerate(samples):\n",
    "    bar(i / len(samples), '')\n",
    "    for isalt, salt in enumerate(salts):\n",
    "        model = SaltDependentModel(salt, **sample)\n",
    "        model.initialize()\n",
    "        for target in targets:\n",
    "            target2values[target][i, isalt] = target2default.get(target, 0.) if not model.valid else model.evaluate(target, c_T=model.get_temperature_correction(T))"
   ]
  },
  {
   "cell_type": "code",
   "execution_count": null,
   "metadata": {},
   "outputs": [],
   "source": [
    "target2optvalues = dict([(target, numpy.zeros((salts.size,))) for target in targets])\n",
    "for isalt, salt in enumerate(salts):\n",
    "    model = SaltDependentModel(salt, **opt_sample)\n",
    "    model.initialize()\n",
    "    for target in targets:\n",
    "        target2optvalues[target][isalt] = target2default.get(target, 0.) if not model.valid else model.evaluate(target, c_T=model.get_temperature_correction(T))"
   ]
  },
  {
   "cell_type": "code",
   "execution_count": null,
   "metadata": {},
   "outputs": [],
   "source": [
    "target2title = {\n",
    "    'N_R': 'lifetime reproductive output (#)',\n",
    "    'a_m': 'lifespan (d)',\n",
    "    obs2target['total_offspring_per_female']: 'total offspring per mature female (#)',\n",
    "    obs2target['prereproductive_period']: 'prereproductive period (d)',\n",
    "    obs2target['lifespan']: 'expected lifespan of mature individual (d)'}\n",
    "target2range = {obs2target['lifespan']: (0, 90), obs2target['prereproductive_period']: (0, 50)}\n",
    "color = 'C0'\n",
    "for target, salt2values in target2values.items():\n",
    "    p025, p250, p500, p750, p975 = numpy.percentile(salt2values, (2.5, 25, 50, 75, 97.5), axis=0)\n",
    "    fig, ax = pyplot.subplots()\n",
    "    ax.fill_between(salts, p025, p975, alpha=0.3, color=color)\n",
    "    ax.fill_between(salts, p250, p750, alpha=0.3, color=color)\n",
    "    ax.plot(salts, p500, color=color)\n",
    "    ax.grid(True)\n",
    "\n",
    "    ax.plot(salts, target2optvalues[target], '-k')\n",
    "    ax.plot(salts, target2optvalues[target], '--', color=color)\n",
    "\n",
    "    ax.set_xlim(salts[0], salts[-1])\n",
    "    ax.set_xlabel('salinity')\n",
    "    ax.set_ylabel(target2title.get(target, target))\n",
    "    ylim = target2range.get(target, (None, None))\n",
    "    for obsname, obstarget in obs2target.items():\n",
    "        if obstarget == target:\n",
    "            for info in AghVSta2008b_stats:\n",
    "                ax.errorbar(info['salinity'], info[obsname], info['%s_sd' % obsname], fmt='ow', mec='k', ecolor='k')\n",
    "    ax.set_ylim(*ylim)\n",
    "        \n",
    "\n"
   ]
  },
  {
   "cell_type": "code",
   "execution_count": null,
   "metadata": {},
   "outputs": [],
   "source": []
  }
 ],
 "metadata": {
  "kernelspec": {
   "display_name": "Python 3.7.9 64-bit (conda)",
   "metadata": {
    "interpreter": {
     "hash": "97ae724bfa85b9b34df7982b8bb8c7216f435b92902d749e4263f71162bea840"
    }
   },
   "name": "python3"
  },
  "language_info": {
   "codemirror_mode": {
    "name": "ipython",
    "version": 3
   },
   "file_extension": ".py",
   "mimetype": "text/x-python",
   "name": "python",
   "nbconvert_exporter": "python",
   "pygments_lexer": "ipython3",
   "version": "3.9.7"
  },
  "orig_nbformat": 2
 },
 "nbformat": 4,
 "nbformat_minor": 2
}
